{
 "cells": [
  {
   "cell_type": "code",
   "execution_count": 47,
   "id": "68dd1651",
   "metadata": {},
   "outputs": [],
   "source": [
    "import pandas as pd\n",
    "import numpy as np\n",
    "import matplotlib.pyplot as plt\n",
    "%matplotlib inline"
   ]
  },
  {
   "cell_type": "code",
   "execution_count": 125,
   "id": "d62f1c88",
   "metadata": {},
   "outputs": [],
   "source": [
    "import warnings\n",
    "warnings.filterwarnings('ignore')"
   ]
  },
  {
   "cell_type": "code",
   "execution_count": 13,
   "id": "d4225af9",
   "metadata": {},
   "outputs": [
    {
     "data": {
      "text/plain": [
       "Index(['Unnamed: 0', 'Job Title', 'Salary Estimate', 'Job Description',\n",
       "       'Rating', 'Company Name', 'Location', 'Headquarters', 'Size', 'Founded',\n",
       "       'Type of ownership', 'Industry', 'Sector', 'Revenue', 'Competitors',\n",
       "       'hourly', 'min_salary', 'max_salary', 'avg_salary', 'company_txt',\n",
       "       'Job state', 'same state', 'age', 'Python', 'R Studio', 'Spark', 'AWS',\n",
       "       'excel', 'job_simplified', 'seniority', 'competitor count', 'desc_len'],\n",
       "      dtype='object')"
      ]
     },
     "execution_count": 13,
     "metadata": {},
     "output_type": "execute_result"
    }
   ],
   "source": [
    "df=pd.read_csv('eda_data.csv')\n",
    "df.columns"
   ]
  },
  {
   "cell_type": "code",
   "execution_count": 16,
   "id": "a25e8953",
   "metadata": {},
   "outputs": [],
   "source": [
    "#choose relevant columns\n",
    "\n",
    "df_model = df[['Rating','Size','Type of ownership','Industry','Sector','Revenue','competitor count','hourly','Job state','same state','Python','AWS','excel','seniority','desc_len','avg_salary']]\n"
   ]
  },
  {
   "cell_type": "code",
   "execution_count": 19,
   "id": "973fc024",
   "metadata": {},
   "outputs": [],
   "source": [
    "#get dummy data\n",
    "df_dum = pd.get_dummies(df_model)\n",
    "#train test split(train, test and validate)\n",
    "#multiple linear regression"
   ]
  },
  {
   "cell_type": "code",
   "execution_count": 20,
   "id": "68a6debc",
   "metadata": {},
   "outputs": [
    {
     "data": {
      "text/html": [
       "<div>\n",
       "<style scoped>\n",
       "    .dataframe tbody tr th:only-of-type {\n",
       "        vertical-align: middle;\n",
       "    }\n",
       "\n",
       "    .dataframe tbody tr th {\n",
       "        vertical-align: top;\n",
       "    }\n",
       "\n",
       "    .dataframe thead th {\n",
       "        text-align: right;\n",
       "    }\n",
       "</style>\n",
       "<table border=\"1\" class=\"dataframe\">\n",
       "  <thead>\n",
       "    <tr style=\"text-align: right;\">\n",
       "      <th></th>\n",
       "      <th>Rating</th>\n",
       "      <th>competitor count</th>\n",
       "      <th>hourly</th>\n",
       "      <th>same state</th>\n",
       "      <th>Python</th>\n",
       "      <th>AWS</th>\n",
       "      <th>excel</th>\n",
       "      <th>desc_len</th>\n",
       "      <th>avg_salary</th>\n",
       "      <th>Size_-1</th>\n",
       "      <th>...</th>\n",
       "      <th>Job state_SC</th>\n",
       "      <th>Job state_TN</th>\n",
       "      <th>Job state_TX</th>\n",
       "      <th>Job state_UT</th>\n",
       "      <th>Job state_VA</th>\n",
       "      <th>Job state_WA</th>\n",
       "      <th>Job state_WI</th>\n",
       "      <th>seniority_junior</th>\n",
       "      <th>seniority_na</th>\n",
       "      <th>seniority_senior</th>\n",
       "    </tr>\n",
       "  </thead>\n",
       "  <tbody>\n",
       "    <tr>\n",
       "      <th>0</th>\n",
       "      <td>3.8</td>\n",
       "      <td>0</td>\n",
       "      <td>0</td>\n",
       "      <td>0</td>\n",
       "      <td>1</td>\n",
       "      <td>0</td>\n",
       "      <td>1</td>\n",
       "      <td>2536</td>\n",
       "      <td>72.0</td>\n",
       "      <td>0</td>\n",
       "      <td>...</td>\n",
       "      <td>0</td>\n",
       "      <td>0</td>\n",
       "      <td>0</td>\n",
       "      <td>0</td>\n",
       "      <td>0</td>\n",
       "      <td>0</td>\n",
       "      <td>0</td>\n",
       "      <td>0</td>\n",
       "      <td>1</td>\n",
       "      <td>0</td>\n",
       "    </tr>\n",
       "    <tr>\n",
       "      <th>1</th>\n",
       "      <td>3.4</td>\n",
       "      <td>0</td>\n",
       "      <td>0</td>\n",
       "      <td>0</td>\n",
       "      <td>1</td>\n",
       "      <td>0</td>\n",
       "      <td>0</td>\n",
       "      <td>4783</td>\n",
       "      <td>87.5</td>\n",
       "      <td>0</td>\n",
       "      <td>...</td>\n",
       "      <td>0</td>\n",
       "      <td>0</td>\n",
       "      <td>0</td>\n",
       "      <td>0</td>\n",
       "      <td>0</td>\n",
       "      <td>0</td>\n",
       "      <td>0</td>\n",
       "      <td>0</td>\n",
       "      <td>1</td>\n",
       "      <td>0</td>\n",
       "    </tr>\n",
       "    <tr>\n",
       "      <th>2</th>\n",
       "      <td>4.8</td>\n",
       "      <td>0</td>\n",
       "      <td>0</td>\n",
       "      <td>1</td>\n",
       "      <td>1</td>\n",
       "      <td>0</td>\n",
       "      <td>1</td>\n",
       "      <td>3461</td>\n",
       "      <td>85.0</td>\n",
       "      <td>0</td>\n",
       "      <td>...</td>\n",
       "      <td>0</td>\n",
       "      <td>0</td>\n",
       "      <td>0</td>\n",
       "      <td>0</td>\n",
       "      <td>0</td>\n",
       "      <td>0</td>\n",
       "      <td>0</td>\n",
       "      <td>0</td>\n",
       "      <td>1</td>\n",
       "      <td>0</td>\n",
       "    </tr>\n",
       "    <tr>\n",
       "      <th>3</th>\n",
       "      <td>3.8</td>\n",
       "      <td>3</td>\n",
       "      <td>0</td>\n",
       "      <td>1</td>\n",
       "      <td>1</td>\n",
       "      <td>0</td>\n",
       "      <td>0</td>\n",
       "      <td>3883</td>\n",
       "      <td>76.5</td>\n",
       "      <td>0</td>\n",
       "      <td>...</td>\n",
       "      <td>0</td>\n",
       "      <td>0</td>\n",
       "      <td>0</td>\n",
       "      <td>0</td>\n",
       "      <td>0</td>\n",
       "      <td>1</td>\n",
       "      <td>0</td>\n",
       "      <td>0</td>\n",
       "      <td>1</td>\n",
       "      <td>0</td>\n",
       "    </tr>\n",
       "    <tr>\n",
       "      <th>4</th>\n",
       "      <td>2.9</td>\n",
       "      <td>3</td>\n",
       "      <td>0</td>\n",
       "      <td>1</td>\n",
       "      <td>1</td>\n",
       "      <td>0</td>\n",
       "      <td>1</td>\n",
       "      <td>2728</td>\n",
       "      <td>114.5</td>\n",
       "      <td>0</td>\n",
       "      <td>...</td>\n",
       "      <td>0</td>\n",
       "      <td>0</td>\n",
       "      <td>0</td>\n",
       "      <td>0</td>\n",
       "      <td>0</td>\n",
       "      <td>0</td>\n",
       "      <td>0</td>\n",
       "      <td>0</td>\n",
       "      <td>1</td>\n",
       "      <td>0</td>\n",
       "    </tr>\n",
       "    <tr>\n",
       "      <th>...</th>\n",
       "      <td>...</td>\n",
       "      <td>...</td>\n",
       "      <td>...</td>\n",
       "      <td>...</td>\n",
       "      <td>...</td>\n",
       "      <td>...</td>\n",
       "      <td>...</td>\n",
       "      <td>...</td>\n",
       "      <td>...</td>\n",
       "      <td>...</td>\n",
       "      <td>...</td>\n",
       "      <td>...</td>\n",
       "      <td>...</td>\n",
       "      <td>...</td>\n",
       "      <td>...</td>\n",
       "      <td>...</td>\n",
       "      <td>...</td>\n",
       "      <td>...</td>\n",
       "      <td>...</td>\n",
       "      <td>...</td>\n",
       "      <td>...</td>\n",
       "    </tr>\n",
       "    <tr>\n",
       "      <th>737</th>\n",
       "      <td>3.9</td>\n",
       "      <td>3</td>\n",
       "      <td>0</td>\n",
       "      <td>0</td>\n",
       "      <td>0</td>\n",
       "      <td>1</td>\n",
       "      <td>0</td>\n",
       "      <td>6162</td>\n",
       "      <td>84.5</td>\n",
       "      <td>0</td>\n",
       "      <td>...</td>\n",
       "      <td>0</td>\n",
       "      <td>0</td>\n",
       "      <td>0</td>\n",
       "      <td>0</td>\n",
       "      <td>0</td>\n",
       "      <td>0</td>\n",
       "      <td>0</td>\n",
       "      <td>0</td>\n",
       "      <td>0</td>\n",
       "      <td>1</td>\n",
       "    </tr>\n",
       "    <tr>\n",
       "      <th>738</th>\n",
       "      <td>4.4</td>\n",
       "      <td>3</td>\n",
       "      <td>0</td>\n",
       "      <td>0</td>\n",
       "      <td>1</td>\n",
       "      <td>1</td>\n",
       "      <td>0</td>\n",
       "      <td>6130</td>\n",
       "      <td>102.5</td>\n",
       "      <td>0</td>\n",
       "      <td>...</td>\n",
       "      <td>0</td>\n",
       "      <td>1</td>\n",
       "      <td>0</td>\n",
       "      <td>0</td>\n",
       "      <td>0</td>\n",
       "      <td>0</td>\n",
       "      <td>0</td>\n",
       "      <td>0</td>\n",
       "      <td>0</td>\n",
       "      <td>1</td>\n",
       "    </tr>\n",
       "    <tr>\n",
       "      <th>739</th>\n",
       "      <td>2.6</td>\n",
       "      <td>0</td>\n",
       "      <td>0</td>\n",
       "      <td>1</td>\n",
       "      <td>0</td>\n",
       "      <td>0</td>\n",
       "      <td>1</td>\n",
       "      <td>3078</td>\n",
       "      <td>73.5</td>\n",
       "      <td>0</td>\n",
       "      <td>...</td>\n",
       "      <td>0</td>\n",
       "      <td>0</td>\n",
       "      <td>0</td>\n",
       "      <td>0</td>\n",
       "      <td>0</td>\n",
       "      <td>0</td>\n",
       "      <td>0</td>\n",
       "      <td>0</td>\n",
       "      <td>1</td>\n",
       "      <td>0</td>\n",
       "    </tr>\n",
       "    <tr>\n",
       "      <th>740</th>\n",
       "      <td>3.2</td>\n",
       "      <td>0</td>\n",
       "      <td>0</td>\n",
       "      <td>0</td>\n",
       "      <td>0</td>\n",
       "      <td>0</td>\n",
       "      <td>1</td>\n",
       "      <td>1642</td>\n",
       "      <td>127.5</td>\n",
       "      <td>0</td>\n",
       "      <td>...</td>\n",
       "      <td>0</td>\n",
       "      <td>0</td>\n",
       "      <td>0</td>\n",
       "      <td>0</td>\n",
       "      <td>0</td>\n",
       "      <td>0</td>\n",
       "      <td>0</td>\n",
       "      <td>0</td>\n",
       "      <td>1</td>\n",
       "      <td>0</td>\n",
       "    </tr>\n",
       "    <tr>\n",
       "      <th>741</th>\n",
       "      <td>3.6</td>\n",
       "      <td>0</td>\n",
       "      <td>0</td>\n",
       "      <td>0</td>\n",
       "      <td>1</td>\n",
       "      <td>0</td>\n",
       "      <td>0</td>\n",
       "      <td>3673</td>\n",
       "      <td>93.5</td>\n",
       "      <td>0</td>\n",
       "      <td>...</td>\n",
       "      <td>0</td>\n",
       "      <td>0</td>\n",
       "      <td>0</td>\n",
       "      <td>0</td>\n",
       "      <td>0</td>\n",
       "      <td>0</td>\n",
       "      <td>0</td>\n",
       "      <td>0</td>\n",
       "      <td>1</td>\n",
       "      <td>0</td>\n",
       "    </tr>\n",
       "  </tbody>\n",
       "</table>\n",
       "<p>742 rows × 168 columns</p>\n",
       "</div>"
      ],
      "text/plain": [
       "     Rating  competitor count  hourly  same state  Python  AWS  excel  \\\n",
       "0       3.8                 0       0           0       1    0      1   \n",
       "1       3.4                 0       0           0       1    0      0   \n",
       "2       4.8                 0       0           1       1    0      1   \n",
       "3       3.8                 3       0           1       1    0      0   \n",
       "4       2.9                 3       0           1       1    0      1   \n",
       "..      ...               ...     ...         ...     ...  ...    ...   \n",
       "737     3.9                 3       0           0       0    1      0   \n",
       "738     4.4                 3       0           0       1    1      0   \n",
       "739     2.6                 0       0           1       0    0      1   \n",
       "740     3.2                 0       0           0       0    0      1   \n",
       "741     3.6                 0       0           0       1    0      0   \n",
       "\n",
       "     desc_len  avg_salary  Size_-1  ...  Job state_SC  Job state_TN  \\\n",
       "0        2536        72.0        0  ...             0             0   \n",
       "1        4783        87.5        0  ...             0             0   \n",
       "2        3461        85.0        0  ...             0             0   \n",
       "3        3883        76.5        0  ...             0             0   \n",
       "4        2728       114.5        0  ...             0             0   \n",
       "..        ...         ...      ...  ...           ...           ...   \n",
       "737      6162        84.5        0  ...             0             0   \n",
       "738      6130       102.5        0  ...             0             1   \n",
       "739      3078        73.5        0  ...             0             0   \n",
       "740      1642       127.5        0  ...             0             0   \n",
       "741      3673        93.5        0  ...             0             0   \n",
       "\n",
       "     Job state_TX  Job state_UT  Job state_VA  Job state_WA  Job state_WI  \\\n",
       "0               0             0             0             0             0   \n",
       "1               0             0             0             0             0   \n",
       "2               0             0             0             0             0   \n",
       "3               0             0             0             1             0   \n",
       "4               0             0             0             0             0   \n",
       "..            ...           ...           ...           ...           ...   \n",
       "737             0             0             0             0             0   \n",
       "738             0             0             0             0             0   \n",
       "739             0             0             0             0             0   \n",
       "740             0             0             0             0             0   \n",
       "741             0             0             0             0             0   \n",
       "\n",
       "     seniority_junior  seniority_na  seniority_senior  \n",
       "0                   0             1                 0  \n",
       "1                   0             1                 0  \n",
       "2                   0             1                 0  \n",
       "3                   0             1                 0  \n",
       "4                   0             1                 0  \n",
       "..                ...           ...               ...  \n",
       "737                 0             0                 1  \n",
       "738                 0             0                 1  \n",
       "739                 0             1                 0  \n",
       "740                 0             1                 0  \n",
       "741                 0             1                 0  \n",
       "\n",
       "[742 rows x 168 columns]"
      ]
     },
     "execution_count": 20,
     "metadata": {},
     "output_type": "execute_result"
    }
   ],
   "source": [
    "df_dum"
   ]
  },
  {
   "cell_type": "code",
   "execution_count": 22,
   "id": "cc056874",
   "metadata": {},
   "outputs": [],
   "source": [
    "#train test split\n",
    "from sklearn.model_selection import train_test_split\n",
    "X = df_dum.drop('avg_salary',axis=1)\n",
    "y = df_dum.avg_salary"
   ]
  },
  {
   "cell_type": "code",
   "execution_count": 23,
   "id": "07444339",
   "metadata": {},
   "outputs": [],
   "source": [
    "X_train, X_test, y_train, y_test = train_test_split(X, y, test_size=0.2, random_state=42)"
   ]
  },
  {
   "cell_type": "code",
   "execution_count": 25,
   "id": "18b333b5",
   "metadata": {},
   "outputs": [],
   "source": [
    "#linear regression model using sklearn\n"
   ]
  },
  {
   "cell_type": "code",
   "execution_count": 26,
   "id": "c2543be0",
   "metadata": {},
   "outputs": [],
   "source": [
    "from sklearn.linear_model import LinearRegression"
   ]
  },
  {
   "cell_type": "code",
   "execution_count": 27,
   "id": "c85479cc",
   "metadata": {},
   "outputs": [],
   "source": [
    "lm = LinearRegression()"
   ]
  },
  {
   "cell_type": "code",
   "execution_count": 28,
   "id": "76d03ec4",
   "metadata": {},
   "outputs": [
    {
     "data": {
      "text/html": [
       "<style>#sk-container-id-1 {color: black;background-color: white;}#sk-container-id-1 pre{padding: 0;}#sk-container-id-1 div.sk-toggleable {background-color: white;}#sk-container-id-1 label.sk-toggleable__label {cursor: pointer;display: block;width: 100%;margin-bottom: 0;padding: 0.3em;box-sizing: border-box;text-align: center;}#sk-container-id-1 label.sk-toggleable__label-arrow:before {content: \"▸\";float: left;margin-right: 0.25em;color: #696969;}#sk-container-id-1 label.sk-toggleable__label-arrow:hover:before {color: black;}#sk-container-id-1 div.sk-estimator:hover label.sk-toggleable__label-arrow:before {color: black;}#sk-container-id-1 div.sk-toggleable__content {max-height: 0;max-width: 0;overflow: hidden;text-align: left;background-color: #f0f8ff;}#sk-container-id-1 div.sk-toggleable__content pre {margin: 0.2em;color: black;border-radius: 0.25em;background-color: #f0f8ff;}#sk-container-id-1 input.sk-toggleable__control:checked~div.sk-toggleable__content {max-height: 200px;max-width: 100%;overflow: auto;}#sk-container-id-1 input.sk-toggleable__control:checked~label.sk-toggleable__label-arrow:before {content: \"▾\";}#sk-container-id-1 div.sk-estimator input.sk-toggleable__control:checked~label.sk-toggleable__label {background-color: #d4ebff;}#sk-container-id-1 div.sk-label input.sk-toggleable__control:checked~label.sk-toggleable__label {background-color: #d4ebff;}#sk-container-id-1 input.sk-hidden--visually {border: 0;clip: rect(1px 1px 1px 1px);clip: rect(1px, 1px, 1px, 1px);height: 1px;margin: -1px;overflow: hidden;padding: 0;position: absolute;width: 1px;}#sk-container-id-1 div.sk-estimator {font-family: monospace;background-color: #f0f8ff;border: 1px dotted black;border-radius: 0.25em;box-sizing: border-box;margin-bottom: 0.5em;}#sk-container-id-1 div.sk-estimator:hover {background-color: #d4ebff;}#sk-container-id-1 div.sk-parallel-item::after {content: \"\";width: 100%;border-bottom: 1px solid gray;flex-grow: 1;}#sk-container-id-1 div.sk-label:hover label.sk-toggleable__label {background-color: #d4ebff;}#sk-container-id-1 div.sk-serial::before {content: \"\";position: absolute;border-left: 1px solid gray;box-sizing: border-box;top: 0;bottom: 0;left: 50%;z-index: 0;}#sk-container-id-1 div.sk-serial {display: flex;flex-direction: column;align-items: center;background-color: white;padding-right: 0.2em;padding-left: 0.2em;position: relative;}#sk-container-id-1 div.sk-item {position: relative;z-index: 1;}#sk-container-id-1 div.sk-parallel {display: flex;align-items: stretch;justify-content: center;background-color: white;position: relative;}#sk-container-id-1 div.sk-item::before, #sk-container-id-1 div.sk-parallel-item::before {content: \"\";position: absolute;border-left: 1px solid gray;box-sizing: border-box;top: 0;bottom: 0;left: 50%;z-index: -1;}#sk-container-id-1 div.sk-parallel-item {display: flex;flex-direction: column;z-index: 1;position: relative;background-color: white;}#sk-container-id-1 div.sk-parallel-item:first-child::after {align-self: flex-end;width: 50%;}#sk-container-id-1 div.sk-parallel-item:last-child::after {align-self: flex-start;width: 50%;}#sk-container-id-1 div.sk-parallel-item:only-child::after {width: 0;}#sk-container-id-1 div.sk-dashed-wrapped {border: 1px dashed gray;margin: 0 0.4em 0.5em 0.4em;box-sizing: border-box;padding-bottom: 0.4em;background-color: white;}#sk-container-id-1 div.sk-label label {font-family: monospace;font-weight: bold;display: inline-block;line-height: 1.2em;}#sk-container-id-1 div.sk-label-container {text-align: center;}#sk-container-id-1 div.sk-container {/* jupyter's `normalize.less` sets `[hidden] { display: none; }` but bootstrap.min.css set `[hidden] { display: none !important; }` so we also need the `!important` here to be able to override the default hidden behavior on the sphinx rendered scikit-learn.org. See: https://github.com/scikit-learn/scikit-learn/issues/21755 */display: inline-block !important;position: relative;}#sk-container-id-1 div.sk-text-repr-fallback {display: none;}</style><div id=\"sk-container-id-1\" class=\"sk-top-container\"><div class=\"sk-text-repr-fallback\"><pre>LinearRegression()</pre><b>In a Jupyter environment, please rerun this cell to show the HTML representation or trust the notebook. <br />On GitHub, the HTML representation is unable to render, please try loading this page with nbviewer.org.</b></div><div class=\"sk-container\" hidden><div class=\"sk-item\"><div class=\"sk-estimator sk-toggleable\"><input class=\"sk-toggleable__control sk-hidden--visually\" id=\"sk-estimator-id-1\" type=\"checkbox\" checked><label for=\"sk-estimator-id-1\" class=\"sk-toggleable__label sk-toggleable__label-arrow\">LinearRegression</label><div class=\"sk-toggleable__content\"><pre>LinearRegression()</pre></div></div></div></div></div>"
      ],
      "text/plain": [
       "LinearRegression()"
      ]
     },
     "execution_count": 28,
     "metadata": {},
     "output_type": "execute_result"
    }
   ],
   "source": [
    "lm.fit(X_train,y_train)"
   ]
  },
  {
   "cell_type": "code",
   "execution_count": 29,
   "id": "75fa8936",
   "metadata": {},
   "outputs": [],
   "source": [
    "from sklearn.model_selection import cross_val_score"
   ]
  },
  {
   "cell_type": "code",
   "execution_count": 31,
   "id": "5f59fb26",
   "metadata": {},
   "outputs": [
    {
     "data": {
      "text/plain": [
       "array([-21.78149315, -22.90878429, -25.74861597])"
      ]
     },
     "execution_count": 31,
     "metadata": {},
     "output_type": "execute_result"
    }
   ],
   "source": [
    "cross_val_score(lm, X_train, y_train, scoring = 'neg_mean_absolute_error',cv=3)"
   ]
  },
  {
   "cell_type": "code",
   "execution_count": 32,
   "id": "ea0490f8",
   "metadata": {},
   "outputs": [
    {
     "data": {
      "text/plain": [
       "-23.479631137755693"
      ]
     },
     "execution_count": 32,
     "metadata": {},
     "output_type": "execute_result"
    }
   ],
   "source": [
    "np.mean(cross_val_score(lm, X_train, y_train, scoring = 'neg_mean_absolute_error',cv=3))"
   ]
  },
  {
   "cell_type": "code",
   "execution_count": 33,
   "id": "c95e50ed",
   "metadata": {},
   "outputs": [],
   "source": [
    "from sklearn.linear_model import Lasso "
   ]
  },
  {
   "cell_type": "code",
   "execution_count": 85,
   "id": "ebef7317",
   "metadata": {},
   "outputs": [],
   "source": [
    "lm_l=Lasso(0.13)"
   ]
  },
  {
   "cell_type": "code",
   "execution_count": 36,
   "id": "99ebc592",
   "metadata": {},
   "outputs": [
    {
     "data": {
      "text/plain": [
       "-23.587932061742332"
      ]
     },
     "execution_count": 36,
     "metadata": {},
     "output_type": "execute_result"
    }
   ],
   "source": [
    "np.mean(cross_val_score(lm_l, X_train,y_train,scoring = 'neg_mean_absolute_error',cv=3) )"
   ]
  },
  {
   "cell_type": "code",
   "execution_count": 51,
   "id": "c9616052",
   "metadata": {},
   "outputs": [],
   "source": [
    "alpha = []"
   ]
  },
  {
   "cell_type": "code",
   "execution_count": 52,
   "id": "0a4f72de",
   "metadata": {},
   "outputs": [],
   "source": [
    "error = []"
   ]
  },
  {
   "cell_type": "code",
   "execution_count": 53,
   "id": "5a9b955e",
   "metadata": {},
   "outputs": [],
   "source": [
    "for i in range(1,100):\n",
    "    lm_l = Lasso(alpha = (i/100))\n",
    "    alpha.append(i/100)\n",
    "    error.append(np.mean(cross_val_score(lm_l, X_train,y_train,scoring = 'neg_mean_absolute_error',cv=3) ))"
   ]
  },
  {
   "cell_type": "code",
   "execution_count": 54,
   "id": "ffb7a90d",
   "metadata": {},
   "outputs": [
    {
     "data": {
      "text/plain": [
       "[<matplotlib.lines.Line2D at 0x1b8eeec16a0>]"
      ]
     },
     "execution_count": 54,
     "metadata": {},
     "output_type": "execute_result"
    },
    {
     "data": {
      "image/png": "[encoded data removed]",
      "text/plain": [
       "<Figure size 432x288 with 1 Axes>"
      ]
     },
     "metadata": {
      "needs_background": "light"
     },
     "output_type": "display_data"
    }
   ],
   "source": [
    "plt.plot(alpha,error)"
   ]
  },
  {
   "cell_type": "code",
   "execution_count": 55,
   "id": "8f4a0ec9",
   "metadata": {},
   "outputs": [],
   "source": [
    "err = tuple(zip(alpha,error))"
   ]
  },
  {
   "cell_type": "code",
   "execution_count": 56,
   "id": "de8d96ed",
   "metadata": {},
   "outputs": [],
   "source": [
    "df_err = pd.DataFrame(err,columns=['alpha','error'])"
   ]
  },
  {
   "cell_type": "code",
   "execution_count": 57,
   "id": "b4e408b0",
   "metadata": {},
   "outputs": [
    {
     "data": {
      "text/html": [
       "<div>\n",
       "<style scoped>\n",
       "    .dataframe tbody tr th:only-of-type {\n",
       "        vertical-align: middle;\n",
       "    }\n",
       "\n",
       "    .dataframe tbody tr th {\n",
       "        vertical-align: top;\n",
       "    }\n",
       "\n",
       "    .dataframe thead th {\n",
       "        text-align: right;\n",
       "    }\n",
       "</style>\n",
       "<table border=\"1\" class=\"dataframe\">\n",
       "  <thead>\n",
       "    <tr style=\"text-align: right;\">\n",
       "      <th></th>\n",
       "      <th>alpha</th>\n",
       "      <th>error</th>\n",
       "    </tr>\n",
       "  </thead>\n",
       "  <tbody>\n",
       "    <tr>\n",
       "      <th>9</th>\n",
       "      <td>0.1</td>\n",
       "      <td>-22.160572</td>\n",
       "    </tr>\n",
       "  </tbody>\n",
       "</table>\n",
       "</div>"
      ],
      "text/plain": [
       "   alpha      error\n",
       "9    0.1 -22.160572"
      ]
     },
     "execution_count": 57,
     "metadata": {},
     "output_type": "execute_result"
    }
   ],
   "source": [
    "df_err[df_err.error == max(df_err.error)]"
   ]
  },
  {
   "cell_type": "code",
   "execution_count": 58,
   "id": "bd93af86",
   "metadata": {},
   "outputs": [],
   "source": [
    "#random forest"
   ]
  },
  {
   "cell_type": "code",
   "execution_count": 59,
   "id": "a5c181d5",
   "metadata": {},
   "outputs": [],
   "source": [
    "from sklearn.ensemble import RandomForestRegressor"
   ]
  },
  {
   "cell_type": "code",
   "execution_count": 60,
   "id": "bbfd7a42",
   "metadata": {},
   "outputs": [],
   "source": [
    "rf = RandomForestRegressor()"
   ]
  },
  {
   "cell_type": "code",
   "execution_count": 96,
   "id": "db0ea8d4",
   "metadata": {},
   "outputs": [
    {
     "data": {
      "text/plain": [
       "-17.360204968466387"
      ]
     },
     "execution_count": 96,
     "metadata": {},
     "output_type": "execute_result"
    }
   ],
   "source": [
    "np.mean(cross_val_score(rf,X_train, y_train,scoring = 'neg_mean_absolute_error',cv=3)) "
   ]
  },
  {
   "cell_type": "code",
   "execution_count": 66,
   "id": "fe12cbef",
   "metadata": {},
   "outputs": [],
   "source": [
    "#tuning using Gridsearch -- will give the model with best perfomance"
   ]
  },
  {
   "cell_type": "code",
   "execution_count": 67,
   "id": "82535511",
   "metadata": {},
   "outputs": [],
   "source": [
    "from sklearn.model_selection import GridSearchCV"
   ]
  },
  {
   "cell_type": "code",
   "execution_count": 72,
   "id": "dae23652",
   "metadata": {},
   "outputs": [],
   "source": [
    "gs = GridSearchCV(rf,parameters,scoring = 'neg_mean_absolute_error',cv = 3)"
   ]
  },
  {
   "cell_type": "code",
   "execution_count": 80,
   "id": "4938a57a",
   "metadata": {},
   "outputs": [
    {
     "data": {
      "text/html": [
       "<style>#sk-container-id-6 {color: black;background-color: white;}#sk-container-id-6 pre{padding: 0;}#sk-container-id-6 div.sk-toggleable {background-color: white;}#sk-container-id-6 label.sk-toggleable__label {cursor: pointer;display: block;width: 100%;margin-bottom: 0;padding: 0.3em;box-sizing: border-box;text-align: center;}#sk-container-id-6 label.sk-toggleable__label-arrow:before {content: \"▸\";float: left;margin-right: 0.25em;color: #696969;}#sk-container-id-6 label.sk-toggleable__label-arrow:hover:before {color: black;}#sk-container-id-6 div.sk-estimator:hover label.sk-toggleable__label-arrow:before {color: black;}#sk-container-id-6 div.sk-toggleable__content {max-height: 0;max-width: 0;overflow: hidden;text-align: left;background-color: #f0f8ff;}#sk-container-id-6 div.sk-toggleable__content pre {margin: 0.2em;color: black;border-radius: 0.25em;background-color: #f0f8ff;}#sk-container-id-6 input.sk-toggleable__control:checked~div.sk-toggleable__content {max-height: 200px;max-width: 100%;overflow: auto;}#sk-container-id-6 input.sk-toggleable__control:checked~label.sk-toggleable__label-arrow:before {content: \"▾\";}#sk-container-id-6 div.sk-estimator input.sk-toggleable__control:checked~label.sk-toggleable__label {background-color: #d4ebff;}#sk-container-id-6 div.sk-label input.sk-toggleable__control:checked~label.sk-toggleable__label {background-color: #d4ebff;}#sk-container-id-6 input.sk-hidden--visually {border: 0;clip: rect(1px 1px 1px 1px);clip: rect(1px, 1px, 1px, 1px);height: 1px;margin: -1px;overflow: hidden;padding: 0;position: absolute;width: 1px;}#sk-container-id-6 div.sk-estimator {font-family: monospace;background-color: #f0f8ff;border: 1px dotted black;border-radius: 0.25em;box-sizing: border-box;margin-bottom: 0.5em;}#sk-container-id-6 div.sk-estimator:hover {background-color: #d4ebff;}#sk-container-id-6 div.sk-parallel-item::after {content: \"\";width: 100%;border-bottom: 1px solid gray;flex-grow: 1;}#sk-container-id-6 div.sk-label:hover label.sk-toggleable__label {background-color: #d4ebff;}#sk-container-id-6 div.sk-serial::before {content: \"\";position: absolute;border-left: 1px solid gray;box-sizing: border-box;top: 0;bottom: 0;left: 50%;z-index: 0;}#sk-container-id-6 div.sk-serial {display: flex;flex-direction: column;align-items: center;background-color: white;padding-right: 0.2em;padding-left: 0.2em;position: relative;}#sk-container-id-6 div.sk-item {position: relative;z-index: 1;}#sk-container-id-6 div.sk-parallel {display: flex;align-items: stretch;justify-content: center;background-color: white;position: relative;}#sk-container-id-6 div.sk-item::before, #sk-container-id-6 div.sk-parallel-item::before {content: \"\";position: absolute;border-left: 1px solid gray;box-sizing: border-box;top: 0;bottom: 0;left: 50%;z-index: -1;}#sk-container-id-6 div.sk-parallel-item {display: flex;flex-direction: column;z-index: 1;position: relative;background-color: white;}#sk-container-id-6 div.sk-parallel-item:first-child::after {align-self: flex-end;width: 50%;}#sk-container-id-6 div.sk-parallel-item:last-child::after {align-self: flex-start;width: 50%;}#sk-container-id-6 div.sk-parallel-item:only-child::after {width: 0;}#sk-container-id-6 div.sk-dashed-wrapped {border: 1px dashed gray;margin: 0 0.4em 0.5em 0.4em;box-sizing: border-box;padding-bottom: 0.4em;background-color: white;}#sk-container-id-6 div.sk-label label {font-family: monospace;font-weight: bold;display: inline-block;line-height: 1.2em;}#sk-container-id-6 div.sk-label-container {text-align: center;}#sk-container-id-6 div.sk-container {/* jupyter's `normalize.less` sets `[hidden] { display: none; }` but bootstrap.min.css set `[hidden] { display: none !important; }` so we also need the `!important` here to be able to override the default hidden behavior on the sphinx rendered scikit-learn.org. See: https://github.com/scikit-learn/scikit-learn/issues/21755 */display: inline-block !important;position: relative;}#sk-container-id-6 div.sk-text-repr-fallback {display: none;}</style><div id=\"sk-container-id-6\" class=\"sk-top-container\"><div class=\"sk-text-repr-fallback\"><pre>GridSearchCV(cv=3, estimator=RandomForestRegressor(),\n",
       "             param_grid={&#x27;criterion&#x27;: (&#x27;squared_error&#x27;, &#x27;absolute_error&#x27;),\n",
       "                         &#x27;max_features&#x27;: (1.0, &#x27;sqrt&#x27;, &#x27;log2&#x27;),\n",
       "                         &#x27;n_estimators&#x27;: range(10, 300, 10)},\n",
       "             scoring=&#x27;neg_mean_absolute_error&#x27;)</pre><b>In a Jupyter environment, please rerun this cell to show the HTML representation or trust the notebook. <br />On GitHub, the HTML representation is unable to render, please try loading this page with nbviewer.org.</b></div><div class=\"sk-container\" hidden><div class=\"sk-item sk-dashed-wrapped\"><div class=\"sk-label-container\"><div class=\"sk-label sk-toggleable\"><input class=\"sk-toggleable__control sk-hidden--visually\" id=\"sk-estimator-id-8\" type=\"checkbox\" ><label for=\"sk-estimator-id-8\" class=\"sk-toggleable__label sk-toggleable__label-arrow\">GridSearchCV</label><div class=\"sk-toggleable__content\"><pre>GridSearchCV(cv=3, estimator=RandomForestRegressor(),\n",
       "             param_grid={&#x27;criterion&#x27;: (&#x27;squared_error&#x27;, &#x27;absolute_error&#x27;),\n",
       "                         &#x27;max_features&#x27;: (1.0, &#x27;sqrt&#x27;, &#x27;log2&#x27;),\n",
       "                         &#x27;n_estimators&#x27;: range(10, 300, 10)},\n",
       "             scoring=&#x27;neg_mean_absolute_error&#x27;)</pre></div></div></div><div class=\"sk-parallel\"><div class=\"sk-parallel-item\"><div class=\"sk-item\"><div class=\"sk-label-container\"><div class=\"sk-label sk-toggleable\"><input class=\"sk-toggleable__control sk-hidden--visually\" id=\"sk-estimator-id-9\" type=\"checkbox\" ><label for=\"sk-estimator-id-9\" class=\"sk-toggleable__label sk-toggleable__label-arrow\">estimator: RandomForestRegressor</label><div class=\"sk-toggleable__content\"><pre>RandomForestRegressor()</pre></div></div></div><div class=\"sk-serial\"><div class=\"sk-item\"><div class=\"sk-estimator sk-toggleable\"><input class=\"sk-toggleable__control sk-hidden--visually\" id=\"sk-estimator-id-10\" type=\"checkbox\" ><label for=\"sk-estimator-id-10\" class=\"sk-toggleable__label sk-toggleable__label-arrow\">RandomForestRegressor</label><div class=\"sk-toggleable__content\"><pre>RandomForestRegressor()</pre></div></div></div></div></div></div></div></div></div></div>"
      ],
      "text/plain": [
       "GridSearchCV(cv=3, estimator=RandomForestRegressor(),\n",
       "             param_grid={'criterion': ('squared_error', 'absolute_error'),\n",
       "                         'max_features': (1.0, 'sqrt', 'log2'),\n",
       "                         'n_estimators': range(10, 300, 10)},\n",
       "             scoring='neg_mean_absolute_error')"
      ]
     },
     "execution_count": 80,
     "metadata": {},
     "output_type": "execute_result"
    }
   ],
   "source": [
    "from sklearn.model_selection import GridSearchCV\n",
    "parameters = {'n_estimators':range(10,300,10), 'criterion':('squared_error','absolute_error'), 'max_features':(1.0,'sqrt','log2')}\n",
    "\n",
    "gs = GridSearchCV(rf,parameters,scoring='neg_mean_absolute_error',cv=3)\n",
    "gs.fit(X_train,y_train)\n",
    "\n"
   ]
  },
  {
   "cell_type": "code",
   "execution_count": 81,
   "id": "bfbe00f0",
   "metadata": {},
   "outputs": [
    {
     "data": {
      "text/plain": [
       "-17.296974931207163"
      ]
     },
     "execution_count": 81,
     "metadata": {},
     "output_type": "execute_result"
    }
   ],
   "source": [
    "gs.best_score_\n"
   ]
  },
  {
   "cell_type": "code",
   "execution_count": 82,
   "id": "f6a7d066",
   "metadata": {},
   "outputs": [
    {
     "data": {
      "text/html": [
       "<style>#sk-container-id-7 {color: black;background-color: white;}#sk-container-id-7 pre{padding: 0;}#sk-container-id-7 div.sk-toggleable {background-color: white;}#sk-container-id-7 label.sk-toggleable__label {cursor: pointer;display: block;width: 100%;margin-bottom: 0;padding: 0.3em;box-sizing: border-box;text-align: center;}#sk-container-id-7 label.sk-toggleable__label-arrow:before {content: \"▸\";float: left;margin-right: 0.25em;color: #696969;}#sk-container-id-7 label.sk-toggleable__label-arrow:hover:before {color: black;}#sk-container-id-7 div.sk-estimator:hover label.sk-toggleable__label-arrow:before {color: black;}#sk-container-id-7 div.sk-toggleable__content {max-height: 0;max-width: 0;overflow: hidden;text-align: left;background-color: #f0f8ff;}#sk-container-id-7 div.sk-toggleable__content pre {margin: 0.2em;color: black;border-radius: 0.25em;background-color: #f0f8ff;}#sk-container-id-7 input.sk-toggleable__control:checked~div.sk-toggleable__content {max-height: 200px;max-width: 100%;overflow: auto;}#sk-container-id-7 input.sk-toggleable__control:checked~label.sk-toggleable__label-arrow:before {content: \"▾\";}#sk-container-id-7 div.sk-estimator input.sk-toggleable__control:checked~label.sk-toggleable__label {background-color: #d4ebff;}#sk-container-id-7 div.sk-label input.sk-toggleable__control:checked~label.sk-toggleable__label {background-color: #d4ebff;}#sk-container-id-7 input.sk-hidden--visually {border: 0;clip: rect(1px 1px 1px 1px);clip: rect(1px, 1px, 1px, 1px);height: 1px;margin: -1px;overflow: hidden;padding: 0;position: absolute;width: 1px;}#sk-container-id-7 div.sk-estimator {font-family: monospace;background-color: #f0f8ff;border: 1px dotted black;border-radius: 0.25em;box-sizing: border-box;margin-bottom: 0.5em;}#sk-container-id-7 div.sk-estimator:hover {background-color: #d4ebff;}#sk-container-id-7 div.sk-parallel-item::after {content: \"\";width: 100%;border-bottom: 1px solid gray;flex-grow: 1;}#sk-container-id-7 div.sk-label:hover label.sk-toggleable__label {background-color: #d4ebff;}#sk-container-id-7 div.sk-serial::before {content: \"\";position: absolute;border-left: 1px solid gray;box-sizing: border-box;top: 0;bottom: 0;left: 50%;z-index: 0;}#sk-container-id-7 div.sk-serial {display: flex;flex-direction: column;align-items: center;background-color: white;padding-right: 0.2em;padding-left: 0.2em;position: relative;}#sk-container-id-7 div.sk-item {position: relative;z-index: 1;}#sk-container-id-7 div.sk-parallel {display: flex;align-items: stretch;justify-content: center;background-color: white;position: relative;}#sk-container-id-7 div.sk-item::before, #sk-container-id-7 div.sk-parallel-item::before {content: \"\";position: absolute;border-left: 1px solid gray;box-sizing: border-box;top: 0;bottom: 0;left: 50%;z-index: -1;}#sk-container-id-7 div.sk-parallel-item {display: flex;flex-direction: column;z-index: 1;position: relative;background-color: white;}#sk-container-id-7 div.sk-parallel-item:first-child::after {align-self: flex-end;width: 50%;}#sk-container-id-7 div.sk-parallel-item:last-child::after {align-self: flex-start;width: 50%;}#sk-container-id-7 div.sk-parallel-item:only-child::after {width: 0;}#sk-container-id-7 div.sk-dashed-wrapped {border: 1px dashed gray;margin: 0 0.4em 0.5em 0.4em;box-sizing: border-box;padding-bottom: 0.4em;background-color: white;}#sk-container-id-7 div.sk-label label {font-family: monospace;font-weight: bold;display: inline-block;line-height: 1.2em;}#sk-container-id-7 div.sk-label-container {text-align: center;}#sk-container-id-7 div.sk-container {/* jupyter's `normalize.less` sets `[hidden] { display: none; }` but bootstrap.min.css set `[hidden] { display: none !important; }` so we also need the `!important` here to be able to override the default hidden behavior on the sphinx rendered scikit-learn.org. See: https://github.com/scikit-learn/scikit-learn/issues/21755 */display: inline-block !important;position: relative;}#sk-container-id-7 div.sk-text-repr-fallback {display: none;}</style><div id=\"sk-container-id-7\" class=\"sk-top-container\"><div class=\"sk-text-repr-fallback\"><pre>RandomForestRegressor(criterion=&#x27;absolute_error&#x27;, n_estimators=240)</pre><b>In a Jupyter environment, please rerun this cell to show the HTML representation or trust the notebook. <br />On GitHub, the HTML representation is unable to render, please try loading this page with nbviewer.org.</b></div><div class=\"sk-container\" hidden><div class=\"sk-item\"><div class=\"sk-estimator sk-toggleable\"><input class=\"sk-toggleable__control sk-hidden--visually\" id=\"sk-estimator-id-11\" type=\"checkbox\" checked><label for=\"sk-estimator-id-11\" class=\"sk-toggleable__label sk-toggleable__label-arrow\">RandomForestRegressor</label><div class=\"sk-toggleable__content\"><pre>RandomForestRegressor(criterion=&#x27;absolute_error&#x27;, n_estimators=240)</pre></div></div></div></div></div>"
      ],
      "text/plain": [
       "RandomForestRegressor(criterion='absolute_error', n_estimators=240)"
      ]
     },
     "execution_count": 82,
     "metadata": {},
     "output_type": "execute_result"
    }
   ],
   "source": [
    "gs.best_estimator_"
   ]
  },
  {
   "cell_type": "code",
   "execution_count": 87,
   "id": "6000c21e",
   "metadata": {},
   "outputs": [
    {
     "data": {
      "text/html": [
       "<style>#sk-container-id-8 {color: black;background-color: white;}#sk-container-id-8 pre{padding: 0;}#sk-container-id-8 div.sk-toggleable {background-color: white;}#sk-container-id-8 label.sk-toggleable__label {cursor: pointer;display: block;width: 100%;margin-bottom: 0;padding: 0.3em;box-sizing: border-box;text-align: center;}#sk-container-id-8 label.sk-toggleable__label-arrow:before {content: \"▸\";float: left;margin-right: 0.25em;color: #696969;}#sk-container-id-8 label.sk-toggleable__label-arrow:hover:before {color: black;}#sk-container-id-8 div.sk-estimator:hover label.sk-toggleable__label-arrow:before {color: black;}#sk-container-id-8 div.sk-toggleable__content {max-height: 0;max-width: 0;overflow: hidden;text-align: left;background-color: #f0f8ff;}#sk-container-id-8 div.sk-toggleable__content pre {margin: 0.2em;color: black;border-radius: 0.25em;background-color: #f0f8ff;}#sk-container-id-8 input.sk-toggleable__control:checked~div.sk-toggleable__content {max-height: 200px;max-width: 100%;overflow: auto;}#sk-container-id-8 input.sk-toggleable__control:checked~label.sk-toggleable__label-arrow:before {content: \"▾\";}#sk-container-id-8 div.sk-estimator input.sk-toggleable__control:checked~label.sk-toggleable__label {background-color: #d4ebff;}#sk-container-id-8 div.sk-label input.sk-toggleable__control:checked~label.sk-toggleable__label {background-color: #d4ebff;}#sk-container-id-8 input.sk-hidden--visually {border: 0;clip: rect(1px 1px 1px 1px);clip: rect(1px, 1px, 1px, 1px);height: 1px;margin: -1px;overflow: hidden;padding: 0;position: absolute;width: 1px;}#sk-container-id-8 div.sk-estimator {font-family: monospace;background-color: #f0f8ff;border: 1px dotted black;border-radius: 0.25em;box-sizing: border-box;margin-bottom: 0.5em;}#sk-container-id-8 div.sk-estimator:hover {background-color: #d4ebff;}#sk-container-id-8 div.sk-parallel-item::after {content: \"\";width: 100%;border-bottom: 1px solid gray;flex-grow: 1;}#sk-container-id-8 div.sk-label:hover label.sk-toggleable__label {background-color: #d4ebff;}#sk-container-id-8 div.sk-serial::before {content: \"\";position: absolute;border-left: 1px solid gray;box-sizing: border-box;top: 0;bottom: 0;left: 50%;z-index: 0;}#sk-container-id-8 div.sk-serial {display: flex;flex-direction: column;align-items: center;background-color: white;padding-right: 0.2em;padding-left: 0.2em;position: relative;}#sk-container-id-8 div.sk-item {position: relative;z-index: 1;}#sk-container-id-8 div.sk-parallel {display: flex;align-items: stretch;justify-content: center;background-color: white;position: relative;}#sk-container-id-8 div.sk-item::before, #sk-container-id-8 div.sk-parallel-item::before {content: \"\";position: absolute;border-left: 1px solid gray;box-sizing: border-box;top: 0;bottom: 0;left: 50%;z-index: -1;}#sk-container-id-8 div.sk-parallel-item {display: flex;flex-direction: column;z-index: 1;position: relative;background-color: white;}#sk-container-id-8 div.sk-parallel-item:first-child::after {align-self: flex-end;width: 50%;}#sk-container-id-8 div.sk-parallel-item:last-child::after {align-self: flex-start;width: 50%;}#sk-container-id-8 div.sk-parallel-item:only-child::after {width: 0;}#sk-container-id-8 div.sk-dashed-wrapped {border: 1px dashed gray;margin: 0 0.4em 0.5em 0.4em;box-sizing: border-box;padding-bottom: 0.4em;background-color: white;}#sk-container-id-8 div.sk-label label {font-family: monospace;font-weight: bold;display: inline-block;line-height: 1.2em;}#sk-container-id-8 div.sk-label-container {text-align: center;}#sk-container-id-8 div.sk-container {/* jupyter's `normalize.less` sets `[hidden] { display: none; }` but bootstrap.min.css set `[hidden] { display: none !important; }` so we also need the `!important` here to be able to override the default hidden behavior on the sphinx rendered scikit-learn.org. See: https://github.com/scikit-learn/scikit-learn/issues/21755 */display: inline-block !important;position: relative;}#sk-container-id-8 div.sk-text-repr-fallback {display: none;}</style><div id=\"sk-container-id-8\" class=\"sk-top-container\"><div class=\"sk-text-repr-fallback\"><pre>Lasso(alpha=0.13)</pre><b>In a Jupyter environment, please rerun this cell to show the HTML representation or trust the notebook. <br />On GitHub, the HTML representation is unable to render, please try loading this page with nbviewer.org.</b></div><div class=\"sk-container\" hidden><div class=\"sk-item\"><div class=\"sk-estimator sk-toggleable\"><input class=\"sk-toggleable__control sk-hidden--visually\" id=\"sk-estimator-id-12\" type=\"checkbox\" checked><label for=\"sk-estimator-id-12\" class=\"sk-toggleable__label sk-toggleable__label-arrow\">Lasso</label><div class=\"sk-toggleable__content\"><pre>Lasso(alpha=0.13)</pre></div></div></div></div></div>"
      ],
      "text/plain": [
       "Lasso(alpha=0.13)"
      ]
     },
     "execution_count": 87,
     "metadata": {},
     "output_type": "execute_result"
    }
   ],
   "source": [
    "#test ensembles\n",
    "lm_l.fit(X_train,y_train)"
   ]
  },
  {
   "cell_type": "code",
   "execution_count": 88,
   "id": "c464f0a7",
   "metadata": {},
   "outputs": [],
   "source": [
    "tpred_lm = lm.predict(X_test)\n",
    "tpred_lml = lm_l.predict(X_test)\n",
    "tpred_rf = gs.best_estimator_.predict(X_test)"
   ]
  },
  {
   "cell_type": "code",
   "execution_count": 93,
   "id": "4549a094",
   "metadata": {},
   "outputs": [
    {
     "data": {
      "text/plain": [
       "23.254628634770615"
      ]
     },
     "execution_count": 93,
     "metadata": {},
     "output_type": "execute_result"
    }
   ],
   "source": [
    "from sklearn.metrics import mean_absolute_error\n",
    "mean_absolute_error(y_test,tpred_lm)\n",
    "\n",
    "\n",
    "\n"
   ]
  },
  {
   "cell_type": "code",
   "execution_count": 90,
   "id": "43fb60a8",
   "metadata": {},
   "outputs": [
    {
     "data": {
      "text/plain": [
       "24.58877688818538"
      ]
     },
     "execution_count": 90,
     "metadata": {},
     "output_type": "execute_result"
    }
   ],
   "source": [
    "mean_absolute_error(y_test,tpred_lml)"
   ]
  },
  {
   "cell_type": "code",
   "execution_count": 91,
   "id": "2ad06278",
   "metadata": {},
   "outputs": [
    {
     "data": {
      "text/plain": [
       "14.761381431767337"
      ]
     },
     "execution_count": 91,
     "metadata": {},
     "output_type": "execute_result"
    }
   ],
   "source": [
    "mean_absolute_error(y_test,tpred_rf)"
   ]
  },
  {
   "cell_type": "code",
   "execution_count": 92,
   "id": "3c62a50e",
   "metadata": {},
   "outputs": [
    {
     "data": {
      "text/plain": [
       "17.961218519437903"
      ]
     },
     "execution_count": 92,
     "metadata": {},
     "output_type": "execute_result"
    }
   ],
   "source": [
    "mean_absolute_error(y_test,(tpred_lm+tpred_rf)/2)"
   ]
  },
  {
   "cell_type": "code",
   "execution_count": 94,
   "id": "6013f4f4",
   "metadata": {},
   "outputs": [],
   "source": [
    "#tuned random forest works best -- results within 14K dollars"
   ]
  },
  {
   "cell_type": "code",
   "execution_count": 97,
   "id": "fd496cf3",
   "metadata": {},
   "outputs": [
    {
     "data": {
      "text/plain": [
       "array([103.54291623,  48.5       , 128.08253409, 104.75860799,\n",
       "       163.69466158, 126.33140046, 136.71932845,  33.76447528,\n",
       "        89.20106746,  95.12778067, 100.26948301, 109.33342667,\n",
       "       118.64306264, 140.14327163,  20.53054224, 147.41669681,\n",
       "        88.72856788,  70.5530963 , 108.47012351,  91.24288374,\n",
       "       118.54518066, 109.34067311, 136.2314004 , 134.81072691,\n",
       "       172.27720935, 109.86809181,  94.13438442, 110.91183311,\n",
       "        83.52245248, 112.92160352,  71.57946549,  60.42382964,\n",
       "       143.64679953, 117.73448348,  91.56343061,  67.8586291 ,\n",
       "        81.54763242, 105.41592927,  67.23004245, 114.70552895,\n",
       "       138.97234496, 111.65797467,  85.2906676 , 101.1024801 ,\n",
       "       154.13640605,  80.40915103, 154.61594288, 114.71757619,\n",
       "       144.21746582,  78.09966712, 122.65891349, 118.60761824,\n",
       "       107.5793768 ,  85.07958419,  92.06118426, 124.19664421,\n",
       "        85.2906676 ,  93.48468512, 138.6137006 , 137.22034043,\n",
       "       107.0791612 , 103.78964643, 134.72511106, 137.73306528,\n",
       "        82.56870157, 107.5       ,  94.99861899, 124.76908916,\n",
       "       138.74353173,  85.75544574, 154.13640605, 124.76908916,\n",
       "        30.86757743, 109.45307209,  26.5       ,  82.56870157,\n",
       "        67.52769168,  73.48785442,  58.89715275, 113.03039046,\n",
       "       121.14390418, 128.05139672, 129.7486325 , 107.15146024,\n",
       "        85.58794599, 108.07796635,  87.19579146,  20.06261099,\n",
       "       140.56178164, 121.94513451, 145.55787953, 127.49772966,\n",
       "        69.34337847,  48.5       ,  98.76661395,  89.38499268,\n",
       "        69.2217114 ,  42.11425554, 116.21852346,  84.17563416,\n",
       "       113.53366987,  99.22501689, 154.19234979,  95.43965123,\n",
       "        83.31735479, 112.31834651, 130.75973807,  81.54763242,\n",
       "        41.87971187, 144.08980662, 113.44126444,  95.33102011,\n",
       "        95.73172536, 116.56074102,  51.        ,  98.15837218,\n",
       "        42.11425554, 101.00805791,  85.70857626,  69.34337847,\n",
       "        81.60468535,  79.74788726,  92.06118426, 105.82828784,\n",
       "        83.89866101, 160.73826636,  76.46765979,  74.5399151 ,\n",
       "        82.40826854, 118.12991876,  99.22501689, 140.23159449,\n",
       "        29.2571049 ,  87.71535076, 107.        ,  63.96921537,\n",
       "       122.55225957, 106.88769448,  78.48595405, 156.95273468,\n",
       "        87.44463497,  89.81278519,  71.1091917 , 130.81645563,\n",
       "        95.50777547, 105.99534409, 159.80206688, 125.83133651,\n",
       "        92.96569712])"
      ]
     },
     "execution_count": 97,
     "metadata": {},
     "output_type": "execute_result"
    }
   ],
   "source": [
    "tpred_lm"
   ]
  },
  {
   "cell_type": "code",
   "execution_count": 98,
   "id": "9d1a9362",
   "metadata": {},
   "outputs": [
    {
     "data": {
      "text/plain": [
       "array([105.24906202,  87.04490375, 123.88826654, 116.525598  ,\n",
       "       156.71405702, 122.57977378, 132.40846781,  57.6640256 ,\n",
       "        86.18407881, 105.07324312, 102.59197236, 113.47269016,\n",
       "       114.38030986, 131.82389583,  38.48033745, 137.03062407,\n",
       "        87.44357416,  92.2014749 , 100.27258097,  84.24978908,\n",
       "       119.27449601, 108.32893542, 139.12269559, 121.69981353,\n",
       "       170.48837842, 111.64165818,  95.66483071, 117.92029628,\n",
       "        81.83930986, 104.20639722,  87.00238213,  70.75644405,\n",
       "       144.44558363,  95.245149  ,  89.25403652,  86.26438271,\n",
       "        75.85532041,  98.28487235,  92.43583897, 107.35948976,\n",
       "       126.50042863, 122.42381107, 106.48174771, 103.93861539,\n",
       "       154.76456541,  82.00508683, 144.33298933, 114.29048201,\n",
       "       133.66370057,  93.55323287, 115.89764853, 116.66020777,\n",
       "       108.81888228,  85.30854273,  96.8039361 , 115.82402626,\n",
       "       106.48174771,  91.86412701, 126.54434475, 134.31796961,\n",
       "       106.65893614, 103.15822927, 128.0854443 , 120.70661193,\n",
       "        85.33176171, 114.45984888, 104.36558562, 125.10914541,\n",
       "       138.67243977,  84.34509016, 154.76456541, 125.10914541,\n",
       "        53.96910954, 105.87282291,  39.05014672,  85.33176171,\n",
       "        71.10875073,  85.97371589,  69.87146285, 112.81033319,\n",
       "       116.25167902, 121.9067432 , 121.61997037, 104.70375572,\n",
       "        86.1981791 , 107.28205612,  78.17482269,  27.46265704,\n",
       "       137.17503795, 121.97894051, 106.17979811, 123.95987604,\n",
       "        69.42852661,  87.04490375,  95.74932069, 102.19132088,\n",
       "        71.70364036,  65.15915913, 113.14412257,  87.59362597,\n",
       "       106.23397755, 141.02855028, 156.92126479,  93.71106794,\n",
       "        92.21522218, 105.92800318, 118.27904588,  75.85532041,\n",
       "        49.60534439, 148.4796822 , 112.33585916,  90.06064404,\n",
       "        93.15105825, 112.00301398,  97.43530365,  93.17880171,\n",
       "        65.15915913,  97.04690346,  85.17693623,  69.42852661,\n",
       "        93.32786281,  90.3030047 ,  96.8039361 ,  97.73400125,\n",
       "        84.56276361, 160.99694247,  96.70125967, 101.21804429,\n",
       "       110.97669047, 114.93420532, 141.02855028, 131.81308067,\n",
       "        40.68989797,  88.61544618, 125.52453609,  68.13688339,\n",
       "       123.05815799, 103.0338051 ,  80.23395308, 152.78924247,\n",
       "        98.03887114,  88.16377556,  79.17913354, 127.78872749,\n",
       "        91.71962856, 101.3827589 ,  91.30715086, 128.25978268,\n",
       "       110.65978955])"
      ]
     },
     "execution_count": 98,
     "metadata": {},
     "output_type": "execute_result"
    }
   ],
   "source": [
    "tpred_lml"
   ]
  },
  {
   "cell_type": "code",
   "execution_count": 100,
   "id": "692e14e7",
   "metadata": {},
   "outputs": [
    {
     "data": {
      "text/plain": [
       "array([115.03125   ,  52.28541667, 152.5625    , 120.09791667,\n",
       "       162.92916667, 101.275     , 133.71666667,  70.13333333,\n",
       "       101.5875    ,  73.14166667, 145.05625   ,  92.18958333,\n",
       "       107.34583333, 113.55833333,  60.35      , 139.21041667,\n",
       "        95.10104167,  71.87916667, 101.40833333, 107.17291667,\n",
       "       113.92916667, 146.47916667, 150.23958333, 109.70416667,\n",
       "       151.26666667, 106.18125   ,  90.17708333, 137.22291667,\n",
       "       104.90208333,  97.34583333, 102.40416667,  53.80416667,\n",
       "       126.825     , 116.81041667, 105.39166667,  82.87291667,\n",
       "        80.94375   , 112.23958333,  66.5375    , 114.22083333,\n",
       "       208.16041667, 119.84791667,  90.60625   ,  79.31979167,\n",
       "       149.11458333,  78.50208333, 134.46875   , 110.62708333,\n",
       "       125.65833333, 102.44791667, 119.        ,  87.67708333,\n",
       "        76.10208333,  86.40416667,  94.82708333, 106.60833333,\n",
       "        90.60625   ,  75.76145833, 243.28125   , 136.95833333,\n",
       "       113.77708333,  90.85833333, 104.52916667, 139.76875   ,\n",
       "        92.55833333, 107.40729167, 124.8125    , 131.13541667,\n",
       "       111.22291667, 105.66041667, 149.11458333, 131.13541667,\n",
       "        69.11875   , 112.26666667,  27.        ,  92.55833333,\n",
       "        66.84166667,  73.74583333, 102.0125    ,  86.77708333,\n",
       "       122.58125   , 102.13541667, 104.02291667,  79.94375   ,\n",
       "        89.25208333, 131.85833333,  88.19791667,  22.69166667,\n",
       "        98.61354167, 123.19375   , 100.58958333, 141.28541667,\n",
       "        81.62916667,  52.28541667, 126.95      ,  90.31041667,\n",
       "        92.69375   ,  56.34791667, 110.00416667,  78.34583333,\n",
       "       124.32291667,  98.95416667, 140.74166667, 107.80833333,\n",
       "        80.48541667, 123.0375    , 115.359375  ,  80.94375   ,\n",
       "        89.30833333, 130.05625   ,  91.39791667, 109.44791667,\n",
       "        92.13125   , 113.39375   ,  65.59791667,  91.2125    ,\n",
       "        56.34791667,  87.67083333,  99.54791667,  81.62916667,\n",
       "        64.45208333,  84.78541667,  94.82708333,  97.97291667,\n",
       "        71.92916667, 182.56458333,  85.06666667,  94.925     ,\n",
       "        88.26666667, 166.81041667,  98.95416667, 113.85833333,\n",
       "        23.84166667, 119.95833333, 115.20416667,  66.29375   ,\n",
       "        93.54583333, 136.13125   , 103.39583333, 129.95208333,\n",
       "        87.05416667, 104.31458333,  65.93125   , 111.88125   ,\n",
       "        81.90416667,  87.74791667,  98.79583333, 135.61458333,\n",
       "        97.65833333])"
      ]
     },
     "execution_count": 100,
     "metadata": {},
     "output_type": "execute_result"
    }
   ],
   "source": [
    "tpred_rf"
   ]
  },
  {
   "cell_type": "code",
   "execution_count": 113,
   "id": "d46834ba",
   "metadata": {},
   "outputs": [],
   "source": [
    "import pickle\n",
    "pickl = {'model': gs.best_estimator_}\n",
    "pickle.dump( pickl, open( 'model_file' + \".p\", \"wb\" ) )"
   ]
  },
  {
   "cell_type": "code",
   "execution_count": 114,
   "id": "a0e9a476",
   "metadata": {},
   "outputs": [],
   "source": [
    "file_name = 'model_file.p'"
   ]
  },
  {
   "cell_type": "code",
   "execution_count": 115,
   "id": "09ba2185",
   "metadata": {},
   "outputs": [],
   "source": [
    "with open(file_name, 'rb') as pickled:\n",
    "    data = pickle.load(pickled)\n",
    "    model = data['model']"
   ]
  },
  {
   "cell_type": "code",
   "execution_count": 133,
   "id": "382091d9",
   "metadata": {},
   "outputs": [
    {
     "data": {
      "text/plain": [
       "145.05625"
      ]
     },
     "execution_count": 133,
     "metadata": {},
     "output_type": "execute_result"
    }
   ],
   "source": [
    "model.predict(np.array(list(X_test.iloc[10,:])).reshape(1,-1))[0]\n",
    "\n"
   ]
  },
  {
   "cell_type": "code",
   "execution_count": null,
   "id": "357c8e4c",
   "metadata": {},
   "outputs": [],
   "source": []
  },
  {
   "cell_type": "code",
   "execution_count": null,
   "id": "ff9f2b69",
   "metadata": {},
   "outputs": [],
   "source": []
  }
 ],
 "metadata": {
  "kernelspec": {
   "display_name": "Python 3 (ipykernel)",
   "language": "python",
   "name": "python3"
  },
  "language_info": {
   "codemirror_mode": {
    "name": "ipython",
    "version": 3
   },
   "file_extension": ".py",
   "mimetype": "text/x-python",
   "name": "python",
   "nbconvert_exporter": "python",
   "pygments_lexer": "ipython3",
   "version": "3.9.7"
  }
 },
 "nbformat": 4,
 "nbformat_minor": 5
}
